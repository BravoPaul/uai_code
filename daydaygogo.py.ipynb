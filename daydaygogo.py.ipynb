{
 "cells": [
  {
   "cell_type": "code",
   "execution_count": 5,
   "metadata": {
    "collapsed": true
   },
   "outputs": [],
   "source": [
    " # -*- coding: utf-8 -*\n",
    "import datetime\n",
    "import time\n",
    "from datetime import datetime, timedelta\n",
    "import datetime\n",
    "import time\n",
    "from datetime import datetime, timedelta\n",
    "import numpy as np\n",
    "import pandas as pd\n",
    "from pandas import DataFrame\n",
    "from pandas import Series\n",
    "import xgboost as xgb\n",
    "from sklearn.model_selection import train_test_split\n",
    "from sklearn.metrics import mean_absolute_error\n",
    "# from matplotlib import pyplot"
   ]
  },
  {
   "cell_type": "code",
   "execution_count": 6,
   "metadata": {},
   "outputs": [
    {
     "name": "stdout",
     "output_type": "stream",
     "text": [
      "train_pre_traitor done\n",
      "test_pre_traitor done\n"
     ]
    }
   ],
   "source": [
    "# 此模块用于最基本的数据梳理\n",
    "july_order = pd.read_csv('data/train_July.csv')\n",
    "july_order['num'] = 1\n",
    "july_order_25_31 = july_order[july_order['create_date']>'2017-07-24'][['start_geo_id','end_geo_id','create_date','create_hour','num']]\n",
    "july_order_0725_d = july_order_25_31[(july_order_25_31['create_date']=='2017-07-25')&(july_order_25_31['create_hour']%2 ==0)].groupby(['start_geo_id','end_geo_id','create_date'])['num'].sum()\n",
    "july_order_0726_s = july_order_25_31[(july_order_25_31['create_date']=='2017-07-26')&(july_order_25_31['create_hour']%2 !=0)].groupby(['start_geo_id','end_geo_id','create_date'])['num'].sum()\n",
    "july_order_0727_d = july_order_25_31[(july_order_25_31['create_date']=='2017-07-27')&(july_order_25_31['create_hour']%2 ==0)].groupby(['start_geo_id','end_geo_id','create_date'])['num'].sum()\n",
    "july_order_0728_s = july_order_25_31[(july_order_25_31['create_date']=='2017-07-28')&(july_order_25_31['create_hour']%2 !=0)].groupby(['start_geo_id','end_geo_id','create_date'])['num'].sum()\n",
    "july_order_0729_d = july_order_25_31[(july_order_25_31['create_date']=='2017-07-29')&(july_order_25_31['create_hour']%2 ==0)].groupby(['start_geo_id','end_geo_id','create_date'])['num'].sum()\n",
    "july_order_0730_s = july_order_25_31[(july_order_25_31['create_date']=='2017-07-30')&(july_order_25_31['create_hour']%2 !=0)].groupby(['start_geo_id','end_geo_id','create_date'])['num'].sum()\n",
    "july_order_0731_d = july_order_25_31[(july_order_25_31['create_date']=='2017-07-31')&(july_order_25_31['create_hour']%2 ==0)].groupby(['start_geo_id','end_geo_id','create_date'])['num'].sum()\n",
    "order_25_31 = pd.concat([july_order_0725_d,july_order_0726_s,july_order_0727_d,july_order_0728_s,july_order_0729_d,july_order_0730_s,july_order_0731_d]).reset_index()\n",
    "july_order_test = july_order_25_31.groupby(['start_geo_id','end_geo_id','create_date'])['num'].sum().reset_index()\n",
    "july_order_test_with_label = pd.merge(july_order_test,order_25_31,on = ['start_geo_id','end_geo_id','create_date'],how = 'left')\n",
    "july_order_train = july_order[july_order['create_date']<='2017-07-24']\n",
    "july_order_test_with_label = july_order_test_with_label.fillna(0)\n",
    "july_order_test_with_label['num'] = july_order_test_with_label['num_x'] - july_order_test_with_label['num_y']\n",
    "del july_order_test['num']\n",
    "del july_order_test_with_label['num_x']\n",
    "del july_order_test_with_label['num_y']\n",
    "print 'train_pre_traitor done'\n",
    "# print july_order_test_with_label\n",
    "# 此模块用于最基本的数据梳理\n",
    "july_order = pd.read_csv('data/train_July.csv')\n",
    "aug_order = pd.read_csv('data/train_Aug.csv')\n",
    "july_order = july_order[july_order['create_date']>'2017-07-07']\n",
    "aug_order_train = pd.concat([july_order,aug_order]).reset_index()\n",
    "aug_order_train['num'] = 1\n",
    "aug_order_test = pd.read_csv('data/test_id_Aug_agg_public5k.csv')\n",
    "del aug_order_test['test_id']\n",
    "print 'test_pre_traitor done'"
   ]
  },
  {
   "cell_type": "code",
   "execution_count": 7,
   "metadata": {
    "collapsed": true
   },
   "outputs": [],
   "source": [
    "def f1_num(time1,time2,yongtu='xunlian'):\n",
    "    if yongtu=='xunlian':\n",
    "        order_train = july_order_train\n",
    "        order_test = july_order_test\n",
    "    else:\n",
    "        order_train = aug_order_train\n",
    "        order_test = aug_order_test\n",
    "    # 用中位数衡量\n",
    "    order_train = order_train[(order_train['create_date']>=time1) & (order_train['create_date']<=time2)]\n",
    "    order_train_sigle = order_train[['start_geo_id','end_geo_id','create_date']].drop_duplicates()\n",
    "    f1_tmp_0 = order_train_sigle.groupby(['start_geo_id','end_geo_id'],as_index=False)['create_date'].agg({'day_count'+time1:'count'})\n",
    "    f1_tmp_1 = order_train.groupby(['start_geo_id','end_geo_id','create_date'],as_index=False)['num'].agg({'hour_count'+time1:'sum'})\n",
    "    # 这里有个非常牛逼的东西，就是改变mean，median，std ，min，max，分别计算对应的值\n",
    "    f1_tmp= f1_tmp_1.groupby(['start_geo_id','end_geo_id'],as_index=False)['hour_count'+time1].agg({'hour_median'+time1:'median','hour_std'+time1:'std','hour_min'+time1:'min','hour_max'+time1:'max'})\n",
    "    # 拼接\n",
    "    selected_data = order_test.copy()\n",
    "    feature = pd.merge(selected_data,f1_tmp_0,on=['start_geo_id','end_geo_id'],how='left')\n",
    "    feature = pd.merge(feature,f1_tmp,on=['start_geo_id','end_geo_id'],how='left')\n",
    "    return feature"
   ]
  },
  {
   "cell_type": "code",
   "execution_count": 8,
   "metadata": {
    "collapsed": true
   },
   "outputs": [],
   "source": [
    "def f1_num_week(time1,time2,yongtu='xunlian'):\n",
    "    # 求25,26,27,28,29,30,31 这样的日期对应的星期，然后['start_geo_id','end_geo_id','week','create_hour'] 这样的key下的平均\n",
    "    if yongtu=='xunlian':\n",
    "        order_train = july_order_train\n",
    "        order_test = july_order_test\n",
    "    else:\n",
    "        order_train = aug_order_train\n",
    "        order_test = aug_order_test\n",
    "    order_train = order_train[(order_train['create_date']>=time1) & (order_train['create_date']<=time2)]\n",
    "    order_train_sigle = order_train[['start_geo_id','end_geo_id','create_date']].drop_duplicates()\n",
    "    order_train_sigle['week'] = pd.to_datetime(order_train_sigle['create_date']).dt.weekday\n",
    "    order_train['week'] = pd.to_datetime(order_train['create_date']).dt.weekday\n",
    "    f1_tmp_0 = order_train_sigle.groupby(['start_geo_id','end_geo_id','week'],as_index=False)['create_date'].agg({'day_week_count'+time1:'count'})\n",
    "    f1_tmp_1 = order_train.groupby(['start_geo_id','end_geo_id','week','create_date'],as_index=False)['num'].agg({'hour_week_count'+time1:'count'})\n",
    "    f1_tmp= f1_tmp_1.groupby(['start_geo_id','end_geo_id','week'],as_index=False)['hour_week_count'+time1].agg({'hour_week_median'+time1:'median','hour_week_std'+time1:'std','hour_week_min'+time1:'min','hour_week_max'+time1:'max'})\n",
    "    \n",
    "    selected_data = order_test.copy()\n",
    "    selected_data['week'] = pd.to_datetime(selected_data['create_date']).dt.weekday\n",
    "    feature = pd.merge(selected_data,f1_tmp_0,on=['start_geo_id','end_geo_id','week'],how='left')\n",
    "    feature = pd.merge(feature,f1_tmp,on=['start_geo_id','end_geo_id','week'],how='left')\n",
    "    return feature"
   ]
  },
  {
   "cell_type": "code",
   "execution_count": 9,
   "metadata": {
    "collapsed": true
   },
   "outputs": [],
   "source": [
    "def features_num(yongtu='xunlian'):\n",
    "    if yongtu=='xunlian':\n",
    "        f1_num_24 = f1_num('2017-07-01', '2017-07-24',yongtu)\n",
    "        f1_num_7 = f1_num('2017-07-18', '2017-07-24' ,yongtu)\n",
    "        f1_num_3 = f1_num('2017-07-22', '2017-07-24' ,yongtu)\n",
    "        f1_num_1 = f1_num('2017-07-24', '2017-07-24' ,yongtu)\n",
    "        f1_num_week_24 = f1_num_week('2017-07-01', '2017-07-24' ,yongtu) \n",
    "        f1_num_week_14 = f1_num_week('2017-07-11', '2017-07-24' ,yongtu)\n",
    "        f1_num_week_7 = f1_num_week('2017-07-18', '2017-07-24',yongtu)\n",
    "#         between_day = f1_num_between_day('2017-07-24', '2017-07-31',yongtu)\n",
    "#         between_hour = f1_num_between_hour('2017-07-24', '2017-07-31',yongtu)\n",
    "    else:\n",
    "        f1_num_24 = f1_num('2017-07-08', '2017-07-31',yongtu)\n",
    "        f1_num_7 = f1_num('2017-07-25', '2017-07-31' ,yongtu)\n",
    "        f1_num_3 = f1_num('2017-07-29', '2017-07-31' ,yongtu)\n",
    "        f1_num_1 = f1_num('2017-07-31', '2017-07-31' ,yongtu)\n",
    "        f1_num_week_24 = f1_num_week('2017-07-08', '2017-07-31' ,yongtu) \n",
    "        f1_num_week_14 = f1_num_week('2017-07-18', '2017-07-31' ,yongtu)\n",
    "        f1_num_week_7 = f1_num_week('2017-07-24', '2017-07-31',yongtu)\n",
    "#         between_day = f1_num_between_day('2017-07-31', '2017-08-07',yongtu)\n",
    "#         between_hour = f1_num_between_hour('2017-07-31', '2017-08-07',yongtu)\n",
    "\n",
    "    features = pd.merge(f1_num_24,f1_num_7,on=['start_geo_id','end_geo_id','create_date'],how='left')\n",
    "    features = pd.merge(features,f1_num_3,on=['start_geo_id','end_geo_id','create_date'],how='left')\n",
    "    features = pd.merge(features,f1_num_1,on=['start_geo_id','end_geo_id','create_date'],how='left')\n",
    "    features = pd.merge(features,f1_num_week_24,on=['start_geo_id','end_geo_id','create_date'],how='left')\n",
    "    features = pd.merge(features,f1_num_week_14,on=['start_geo_id','end_geo_id','create_date'],how='left')\n",
    "    features = pd.merge(features,f1_num_week_7,on=['start_geo_id','end_geo_id','create_date'],how='left')\n",
    "    order_25_31 = pd.concat([july_order_0725_d,july_order_0726_s,july_order_0727_d,july_order_0728_s,july_order_0729_d,july_order_0730_s,july_order_0731_d]).reset_index()\n",
    "    features = pd.merge(features,order_25_31,on=['start_geo_id','end_geo_id','create_date'],how='left')\n",
    "#     features = pd.merge(features,between_day,on=['start_geo_id','end_geo_id','create_date','create_hour'],how='left')\n",
    "#     features = pd.merge(features,between_hour,on=['start_geo_id','end_geo_id','create_date','create_hour'],how='left')\n",
    "    return features"
   ]
  },
  {
   "cell_type": "code",
   "execution_count": 10,
   "metadata": {
    "collapsed": true
   },
   "outputs": [],
   "source": [
    "def trainning_test():\n",
    "    features_train = features_num()\n",
    "    print features_train.count()\n",
    "#     print features_train\n",
    "\n",
    "    del features_train['start_geo_id']\n",
    "    del features_train['end_geo_id']\n",
    "    del features_train['create_date']\n",
    "#   del features_train['create_hour']\n",
    "    label = july_order_test_with_label['num']\n",
    "\n",
    "    dtrain, dtest, dtrain_y, dtest_y = train_test_split(features_train, label, test_size=0.2, random_state=42)\n",
    "\n",
    "    xgb_model = xgb.XGBClassifier(max_depth=10, learning_rate=0.05, n_estimators=500).fit(dtrain, dtrain_y)\n",
    "    predictions = xgb_model.predict(dtest)\n",
    "    actuals = dtest_y\n",
    "    s_prediciotn = pd.Series(predictions)\n",
    "    s_label = pd.Series(actuals).reset_index()\n",
    "    del s_label['index']\n",
    "    result = s_prediciotn.to_frame()\n",
    "    result['label'] = s_label\n",
    "    result.to_csv(\"result.csv\")\n",
    "    print(mean_absolute_error(actuals, predictions))\n",
    "    return xgb_model"
   ]
  },
  {
   "cell_type": "code",
   "execution_count": 11,
   "metadata": {
    "collapsed": true
   },
   "outputs": [],
   "source": [
    "# 训练节测试集构造\n",
    "def trainning():\n",
    "    features_train = features_num()\n",
    "\n",
    "    del features_train['start_geo_id']\n",
    "    del features_train['end_geo_id']\n",
    "    del features_train['create_date']\n",
    "\n",
    "    label = july_order_test_with_label['num']\n",
    "\n",
    "    features_train = features_train.values\n",
    "\n",
    "    dtrain, dtest, dtrain_y, dtest_y = train_test_split(features_train, label, test_size=0.0, random_state=42)\n",
    "\n",
    "    xgb_model = xgb.XGBRegressor(max_depth=5, learning_rate=0.05, n_estimators=200).fit(dtrain, dtrain_y)\n",
    "    return xgb_model\n",
    "\n",
    "\n",
    "def testing():\n",
    "    features_test = features_num('ceshi')\n",
    "    rows, columns = features_test.shape\n",
    "    del features_test['start_geo_id']\n",
    "    del features_test['end_geo_id']\n",
    "    del features_test['create_date']\n",
    "    return features_test.values"
   ]
  },
  {
   "cell_type": "code",
   "execution_count": 12,
   "metadata": {},
   "outputs": [
    {
     "name": "stderr",
     "output_type": "stream",
     "text": [
      "/home/kun/outil/anaconda2/lib/python2.7/site-packages/ipykernel_launcher.py:12: SettingWithCopyWarning: \n",
      "A value is trying to be set on a copy of a slice from a DataFrame.\n",
      "Try using .loc[row_indexer,col_indexer] = value instead\n",
      "\n",
      "See the caveats in the documentation: http://pandas.pydata.org/pandas-docs/stable/indexing.html#indexing-view-versus-copy\n",
      "  if sys.path[0] == '':\n"
     ]
    },
    {
     "name": "stdout",
     "output_type": "stream",
     "text": [
      "start_geo_id                  42983\n",
      "end_geo_id                    42983\n",
      "create_date                   42983\n",
      "day_count2017-07-01           39594\n",
      "hour_min2017-07-01            39594\n",
      "hour_median2017-07-01         39594\n",
      "hour_max2017-07-01            39594\n",
      "hour_std2017-07-01            37580\n",
      "day_count2017-07-18           35946\n",
      "hour_std2017-07-18            31323\n",
      "hour_max2017-07-18            35946\n",
      "hour_median2017-07-18         35946\n",
      "hour_min2017-07-18            35946\n",
      "day_count2017-07-22           30919\n",
      "hour_std2017-07-22            22172\n",
      "hour_min2017-07-22            30919\n",
      "hour_max2017-07-22            30919\n",
      "hour_median2017-07-22         30919\n",
      "day_count2017-07-24           23817\n",
      "hour_max2017-07-24            23817\n",
      "hour_median2017-07-24         23817\n",
      "hour_min2017-07-24            23817\n",
      "hour_std2017-07-24                0\n",
      "week_x                        42983\n",
      "day_week_count2017-07-01      33037\n",
      "hour_week_std2017-07-01       26249\n",
      "hour_week_min2017-07-01       33037\n",
      "hour_week_median2017-07-01    33037\n",
      "hour_week_max2017-07-01       33037\n",
      "week_y                        42983\n",
      "day_week_count2017-07-11      29771\n",
      "hour_week_max2017-07-11       29771\n",
      "hour_week_std2017-07-11       19779\n",
      "hour_week_min2017-07-11       29771\n",
      "hour_week_median2017-07-11    29771\n",
      "week                          42983\n",
      "day_week_count2017-07-18      24364\n",
      "hour_week_std2017-07-18           0\n",
      "hour_week_max2017-07-18       24364\n",
      "hour_week_min2017-07-18       24364\n",
      "hour_week_median2017-07-18    24364\n",
      "num                           29001\n",
      "dtype: int64\n"
     ]
    },
    {
     "ename": "KeyboardInterrupt",
     "evalue": "",
     "output_type": "error",
     "traceback": [
      "\u001b[0;31m---------------------------------------------------------------------------\u001b[0m",
      "\u001b[0;31mKeyboardInterrupt\u001b[0m                         Traceback (most recent call last)",
      "\u001b[0;32m<ipython-input-12-cfac84433070>\u001b[0m in \u001b[0;36m<module>\u001b[0;34m()\u001b[0m\n\u001b[0;32m----> 1\u001b[0;31m \u001b[0mmodel\u001b[0m \u001b[0;34m=\u001b[0m \u001b[0mtrainning_test\u001b[0m\u001b[0;34m(\u001b[0m\u001b[0;34m)\u001b[0m\u001b[0;34m\u001b[0m\u001b[0m\n\u001b[0m\u001b[1;32m      2\u001b[0m \u001b[0;32mprint\u001b[0m \u001b[0mmodel\u001b[0m\u001b[0;34m.\u001b[0m\u001b[0mfeature_importances_\u001b[0m\u001b[0;34m\u001b[0m\u001b[0m\n\u001b[1;32m      3\u001b[0m \u001b[0;34m\u001b[0m\u001b[0m\n\u001b[1;32m      4\u001b[0m \u001b[0;31m# order_25_31 = pd.concat([july_order_0725_d,july_order_0726_s,july_order_0727_d,july_order_0728_s,july_order_0729_d,july_order_0730_s,july_order_0731_d]).reset_index()\u001b[0m\u001b[0;34m\u001b[0m\u001b[0;34m\u001b[0m\u001b[0m\n\u001b[1;32m      5\u001b[0m \u001b[0;34m\u001b[0m\u001b[0m\n",
      "\u001b[0;32m<ipython-input-10-e28493a926fe>\u001b[0m in \u001b[0;36mtrainning_test\u001b[0;34m()\u001b[0m\n\u001b[1;32m     12\u001b[0m     \u001b[0mdtrain\u001b[0m\u001b[0;34m,\u001b[0m \u001b[0mdtest\u001b[0m\u001b[0;34m,\u001b[0m \u001b[0mdtrain_y\u001b[0m\u001b[0;34m,\u001b[0m \u001b[0mdtest_y\u001b[0m \u001b[0;34m=\u001b[0m \u001b[0mtrain_test_split\u001b[0m\u001b[0;34m(\u001b[0m\u001b[0mfeatures_train\u001b[0m\u001b[0;34m,\u001b[0m \u001b[0mlabel\u001b[0m\u001b[0;34m,\u001b[0m \u001b[0mtest_size\u001b[0m\u001b[0;34m=\u001b[0m\u001b[0;36m0.2\u001b[0m\u001b[0;34m,\u001b[0m \u001b[0mrandom_state\u001b[0m\u001b[0;34m=\u001b[0m\u001b[0;36m42\u001b[0m\u001b[0;34m)\u001b[0m\u001b[0;34m\u001b[0m\u001b[0m\n\u001b[1;32m     13\u001b[0m \u001b[0;34m\u001b[0m\u001b[0m\n\u001b[0;32m---> 14\u001b[0;31m     \u001b[0mxgb_model\u001b[0m \u001b[0;34m=\u001b[0m \u001b[0mxgb\u001b[0m\u001b[0;34m.\u001b[0m\u001b[0mXGBClassifier\u001b[0m\u001b[0;34m(\u001b[0m\u001b[0mmax_depth\u001b[0m\u001b[0;34m=\u001b[0m\u001b[0;36m10\u001b[0m\u001b[0;34m,\u001b[0m \u001b[0mlearning_rate\u001b[0m\u001b[0;34m=\u001b[0m\u001b[0;36m0.05\u001b[0m\u001b[0;34m,\u001b[0m \u001b[0mn_estimators\u001b[0m\u001b[0;34m=\u001b[0m\u001b[0;36m500\u001b[0m\u001b[0;34m)\u001b[0m\u001b[0;34m.\u001b[0m\u001b[0mfit\u001b[0m\u001b[0;34m(\u001b[0m\u001b[0mdtrain\u001b[0m\u001b[0;34m,\u001b[0m \u001b[0mdtrain_y\u001b[0m\u001b[0;34m)\u001b[0m\u001b[0;34m\u001b[0m\u001b[0m\n\u001b[0m\u001b[1;32m     15\u001b[0m     \u001b[0mpredictions\u001b[0m \u001b[0;34m=\u001b[0m \u001b[0mxgb_model\u001b[0m\u001b[0;34m.\u001b[0m\u001b[0mpredict\u001b[0m\u001b[0;34m(\u001b[0m\u001b[0mdtest\u001b[0m\u001b[0;34m)\u001b[0m\u001b[0;34m\u001b[0m\u001b[0m\n\u001b[1;32m     16\u001b[0m     \u001b[0mactuals\u001b[0m \u001b[0;34m=\u001b[0m \u001b[0mdtest_y\u001b[0m\u001b[0;34m\u001b[0m\u001b[0m\n",
      "\u001b[0;32m/home/kun/outil/anaconda2/lib/python2.7/site-packages/xgboost/sklearn.py\u001b[0m in \u001b[0;36mfit\u001b[0;34m(self, X, y, sample_weight, eval_set, eval_metric, early_stopping_rounds, verbose, xgb_model)\u001b[0m\n\u001b[1;32m    504\u001b[0m                               \u001b[0mearly_stopping_rounds\u001b[0m\u001b[0;34m=\u001b[0m\u001b[0mearly_stopping_rounds\u001b[0m\u001b[0;34m,\u001b[0m\u001b[0;34m\u001b[0m\u001b[0m\n\u001b[1;32m    505\u001b[0m                               \u001b[0mevals_result\u001b[0m\u001b[0;34m=\u001b[0m\u001b[0mevals_result\u001b[0m\u001b[0;34m,\u001b[0m \u001b[0mobj\u001b[0m\u001b[0;34m=\u001b[0m\u001b[0mobj\u001b[0m\u001b[0;34m,\u001b[0m \u001b[0mfeval\u001b[0m\u001b[0;34m=\u001b[0m\u001b[0mfeval\u001b[0m\u001b[0;34m,\u001b[0m\u001b[0;34m\u001b[0m\u001b[0m\n\u001b[0;32m--> 506\u001b[0;31m                               verbose_eval=verbose, xgb_model=None)\n\u001b[0m\u001b[1;32m    507\u001b[0m \u001b[0;34m\u001b[0m\u001b[0m\n\u001b[1;32m    508\u001b[0m         \u001b[0mself\u001b[0m\u001b[0;34m.\u001b[0m\u001b[0mobjective\u001b[0m \u001b[0;34m=\u001b[0m \u001b[0mxgb_options\u001b[0m\u001b[0;34m[\u001b[0m\u001b[0;34m\"objective\"\u001b[0m\u001b[0;34m]\u001b[0m\u001b[0;34m\u001b[0m\u001b[0m\n",
      "\u001b[0;32m/home/kun/outil/anaconda2/lib/python2.7/site-packages/xgboost/training.py\u001b[0m in \u001b[0;36mtrain\u001b[0;34m(params, dtrain, num_boost_round, evals, obj, feval, maximize, early_stopping_rounds, evals_result, verbose_eval, xgb_model, callbacks, learning_rates)\u001b[0m\n\u001b[1;32m    202\u001b[0m                            \u001b[0mevals\u001b[0m\u001b[0;34m=\u001b[0m\u001b[0mevals\u001b[0m\u001b[0;34m,\u001b[0m\u001b[0;34m\u001b[0m\u001b[0m\n\u001b[1;32m    203\u001b[0m                            \u001b[0mobj\u001b[0m\u001b[0;34m=\u001b[0m\u001b[0mobj\u001b[0m\u001b[0;34m,\u001b[0m \u001b[0mfeval\u001b[0m\u001b[0;34m=\u001b[0m\u001b[0mfeval\u001b[0m\u001b[0;34m,\u001b[0m\u001b[0;34m\u001b[0m\u001b[0m\n\u001b[0;32m--> 204\u001b[0;31m                            xgb_model=xgb_model, callbacks=callbacks)\n\u001b[0m\u001b[1;32m    205\u001b[0m \u001b[0;34m\u001b[0m\u001b[0m\n\u001b[1;32m    206\u001b[0m \u001b[0;34m\u001b[0m\u001b[0m\n",
      "\u001b[0;32m/home/kun/outil/anaconda2/lib/python2.7/site-packages/xgboost/training.py\u001b[0m in \u001b[0;36m_train_internal\u001b[0;34m(params, dtrain, num_boost_round, evals, obj, feval, xgb_model, callbacks)\u001b[0m\n\u001b[1;32m     72\u001b[0m         \u001b[0;31m# Skip the first update if it is a recovery step.\u001b[0m\u001b[0;34m\u001b[0m\u001b[0;34m\u001b[0m\u001b[0m\n\u001b[1;32m     73\u001b[0m         \u001b[0;32mif\u001b[0m \u001b[0mversion\u001b[0m \u001b[0;34m%\u001b[0m \u001b[0;36m2\u001b[0m \u001b[0;34m==\u001b[0m \u001b[0;36m0\u001b[0m\u001b[0;34m:\u001b[0m\u001b[0;34m\u001b[0m\u001b[0m\n\u001b[0;32m---> 74\u001b[0;31m             \u001b[0mbst\u001b[0m\u001b[0;34m.\u001b[0m\u001b[0mupdate\u001b[0m\u001b[0;34m(\u001b[0m\u001b[0mdtrain\u001b[0m\u001b[0;34m,\u001b[0m \u001b[0mi\u001b[0m\u001b[0;34m,\u001b[0m \u001b[0mobj\u001b[0m\u001b[0;34m)\u001b[0m\u001b[0;34m\u001b[0m\u001b[0m\n\u001b[0m\u001b[1;32m     75\u001b[0m             \u001b[0mbst\u001b[0m\u001b[0;34m.\u001b[0m\u001b[0msave_rabit_checkpoint\u001b[0m\u001b[0;34m(\u001b[0m\u001b[0;34m)\u001b[0m\u001b[0;34m\u001b[0m\u001b[0m\n\u001b[1;32m     76\u001b[0m             \u001b[0mversion\u001b[0m \u001b[0;34m+=\u001b[0m \u001b[0;36m1\u001b[0m\u001b[0;34m\u001b[0m\u001b[0m\n",
      "\u001b[0;32m/home/kun/outil/anaconda2/lib/python2.7/site-packages/xgboost/core.py\u001b[0m in \u001b[0;36mupdate\u001b[0;34m(self, dtrain, iteration, fobj)\u001b[0m\n\u001b[1;32m    896\u001b[0m         \u001b[0;32mif\u001b[0m \u001b[0mfobj\u001b[0m \u001b[0;32mis\u001b[0m \u001b[0mNone\u001b[0m\u001b[0;34m:\u001b[0m\u001b[0;34m\u001b[0m\u001b[0m\n\u001b[1;32m    897\u001b[0m             _check_call(_LIB.XGBoosterUpdateOneIter(self.handle, ctypes.c_int(iteration),\n\u001b[0;32m--> 898\u001b[0;31m                                                     dtrain.handle))\n\u001b[0m\u001b[1;32m    899\u001b[0m         \u001b[0;32melse\u001b[0m\u001b[0;34m:\u001b[0m\u001b[0;34m\u001b[0m\u001b[0m\n\u001b[1;32m    900\u001b[0m             \u001b[0mpred\u001b[0m \u001b[0;34m=\u001b[0m \u001b[0mself\u001b[0m\u001b[0;34m.\u001b[0m\u001b[0mpredict\u001b[0m\u001b[0;34m(\u001b[0m\u001b[0mdtrain\u001b[0m\u001b[0;34m)\u001b[0m\u001b[0;34m\u001b[0m\u001b[0m\n",
      "\u001b[0;31mKeyboardInterrupt\u001b[0m: "
     ]
    }
   ],
   "source": [
    "model = trainning_test()\n",
    "print model.feature_importances_\n",
    "\n",
    "# order_25_31 = pd.concat([july_order_0725_d,july_order_0726_s,july_order_0727_d,july_order_0728_s,july_order_0729_d,july_order_0730_s,july_order_0731_d]).reset_index()\n",
    "\n",
    "# aug_order_test.sort_values(['start_geo_id','end_geo_id','create_date','create_hour']).to_csv(\"ceshiji.csv\")\n",
    "# model = trainning()\n",
    "# pyplot.bar(range(len(model.feature_importances_)), model.feature_importances_)\n",
    "# test = testing()\n",
    "# result = model.predict(test)\n",
    "# pd.DataFrame(result).to_csv(\"result_ture2.csv\")"
   ]
  },
  {
   "cell_type": "code",
   "execution_count": null,
   "metadata": {
    "collapsed": true
   },
   "outputs": [],
   "source": []
  }
 ],
 "metadata": {
  "kernelspec": {
   "display_name": "Python 2",
   "language": "python",
   "name": "python2"
  },
  "language_info": {
   "codemirror_mode": {
    "name": "ipython",
    "version": 2
   },
   "file_extension": ".py",
   "mimetype": "text/x-python",
   "name": "python",
   "nbconvert_exporter": "python",
   "pygments_lexer": "ipython2",
   "version": "2.7.14"
  }
 },
 "nbformat": 4,
 "nbformat_minor": 2
}

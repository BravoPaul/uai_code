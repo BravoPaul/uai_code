{
 "cells": [
  {
   "cell_type": "code",
   "execution_count": 1,
   "metadata": {
    "collapsed": true
   },
   "outputs": [],
   "source": [
    " # -*- coding: utf-8 -*\n",
    "import datetime\n",
    "import time\n",
    "from datetime import datetime, timedelta\n",
    "import datetime\n",
    "import time\n",
    "from datetime import datetime, timedelta\n",
    "import numpy as np\n",
    "import pandas as pd\n",
    "from pandas import DataFrame\n",
    "from pandas import Series\n",
    "import xgboost as xgb\n",
    "from sklearn.model_selection import train_test_split\n",
    "from sklearn.metrics import mean_absolute_error\n",
    "# from matplotlib import pyplot"
   ]
  },
  {
   "cell_type": "code",
   "execution_count": 24,
   "metadata": {},
   "outputs": [
    {
     "name": "stdout",
     "output_type": "stream",
     "text": [
      "train_pre_traitor done\n",
      "test_pre_traitor done\n"
     ]
    }
   ],
   "source": [
    "# 此模块用于最基本的数据梳理\n",
    "july_order = pd.read_csv('data/train_July.csv')\n",
    "july_order['num'] = 1\n",
    "\n",
    "july_label_order_25_31 = july_label_order[['start_geo_id','end_geo_id','create_date','create_hour','num']]\n",
    "july_label_order_0725_d = july_label_order_25_31[(july_label_order_25_31['create_date']=='2017-07-25')&(july_label_order_25_31['create_hour']%2 !=0)].groupby(['start_geo_id','end_geo_id','create_date','create_hour'])['num'].sum()\n",
    "july_label_order_0726_s = july_label_order_25_31[(july_label_order_25_31['create_date']=='2017-07-26')&(july_label_order_25_31['create_hour']%2 ==0)].groupby(['start_geo_id','end_geo_id','create_date','create_hour'])['num'].sum()\n",
    "july_label_order_0727_d = july_label_order_25_31[(july_label_order_25_31['create_date']=='2017-07-27')&(july_label_order_25_31['create_hour']%2 !=0)].groupby(['start_geo_id','end_geo_id','create_date','create_hour'])['num'].sum()\n",
    "july_label_order_0728_s = july_label_order_25_31[(july_label_order_25_31['create_date']=='2017-07-28')&(july_label_order_25_31['create_hour']%2 ==0)].groupby(['start_geo_id','end_geo_id','create_date','create_hour'])['num'].sum()\n",
    "july_label_order_0729_d = july_label_order_25_31[(july_label_order_25_31['create_date']=='2017-07-29')&(july_label_order_25_31['create_hour']%2 !=0)].groupby(['start_geo_id','end_geo_id','create_date','create_hour'])['num'].sum()\n",
    "july_label_order_0730_s = july_label_order_25_31[(july_label_order_25_31['create_date']=='2017-07-30')&(july_label_order_25_31['create_hour']%2 ==0)].groupby(['start_geo_id','end_geo_id','create_date','create_hour'])['num'].sum()\n",
    "july_label_order_0731_d = july_label_order_25_31[(july_label_order_25_31['create_date']=='2017-07-31')&(july_label_order_25_31['create_hour']%2 !=0)].groupby(['start_geo_id','end_geo_id','create_date','create_hour'])['num'].sum()\n",
    "\n",
    "july_order_1 = july_order.drop(july_order[(july_order['create_date']=='2017-07-25')&(july_order['create_hour']%2 !=0)].index)\n",
    "july_order_2 = july_order_1.drop(july_order_1[(july_order_1['create_date']=='2017-07-26')&(july_order_1['create_hour']%2 ==0)].index)\n",
    "july_order_3 = july_order_2.drop(july_order_2[(july_order_2['create_date']=='2017-07-27')&(july_order_2['create_hour']%2 !=0)].index)\n",
    "july_order_4 = july_order_3.drop(july_order_3[(july_order_3['create_date']=='2017-07-28')&(july_order_3['create_hour']%2 ==0)].index)\n",
    "july_order_5 = july_order_4.drop(july_order_4[(july_order_4['create_date']=='2017-07-29')&(july_order_4['create_hour']%2 !=0)].index)\n",
    "july_order_6 = july_order_5.drop(july_order_5[(july_order_5['create_date']=='2017-07-30')&(july_order_5['create_hour']%2 ==0)].index)\n",
    "july_order_train = july_order_6.drop(july_order_6[(july_order_6['create_date']=='2017-07-31')&(july_order_6['create_hour']%2 !=0)].index)\n",
    "\n",
    "order_label_25_31 = pd.concat([july_label_order_0725_d,july_label_order_0726_s,july_label_order_0727_d,july_label_order_0728_s,july_label_order_0729_d,july_label_order_0730_s,july_label_order_0731_d]).reset_index()\n",
    "july_order_test = order_label_25_31.groupby(['start_geo_id','end_geo_id','create_date'])['num'].sum().reset_index()\n",
    "july_order_test_with_label = july_order_test.copy()\n",
    "july_order_test_with_label.to_csv('data/label.csv')\n",
    "del july_order_test['num']\n",
    "print 'train_pre_traitor done'\n",
    "# print july_order_test_with_label\n",
    "# 此模块用于最基本的数据梳理\n",
    "aug_order = pd.read_csv('data/train_Aug.csv')\n",
    "july_order = july_order[july_order['create_date']>'2017-07-07']\n",
    "aug_order_train = pd.concat([july_order,aug_order]).reset_index()\n",
    "aug_order_train['num'] = 1\n",
    "aug_order_test = pd.read_csv('data/test_id_Aug_agg_public5k.csv')\n",
    "del aug_order_test['test_id']\n",
    "print 'test_pre_traitor done'"
   ]
  },
  {
   "cell_type": "code",
   "execution_count": 22,
   "metadata": {
    "collapsed": true
   },
   "outputs": [],
   "source": [
    "def f1_num(time1,time2,yongtu='xunlian'):\n",
    "    if yongtu=='xunlian':\n",
    "        order_train = july_order_train\n",
    "        order_test = july_order_test\n",
    "    else:\n",
    "        order_train = aug_order_train\n",
    "        order_test = aug_order_test\n",
    "    # 用中位数衡量\n",
    "    order_train = order_train[(order_train['create_date']>=time1) & (order_train['create_date']<=time2)]\n",
    "    order_train_sigle = order_train[['start_geo_id','end_geo_id','create_date']].drop_duplicates()\n",
    "    f1_tmp_0 = order_train_sigle.groupby(['start_geo_id','end_geo_id'],as_index=False)['create_date'].agg({'day_count'+time1:'count'})\n",
    "    f1_tmp_1 = order_train.groupby(['start_geo_id','end_geo_id','create_date'],as_index=False)['num'].agg({'hour_count'+time1:'sum'})\n",
    "    # 这里有个非常牛逼的东西，就是改变mean，median，std ，min，max，分别计算对应的值\n",
    "    f1_tmp= f1_tmp_1.groupby(['start_geo_id','end_geo_id'],as_index=False)['hour_count'+time1].agg({'hour_median'+time1:'median','hour_std'+time1:'std','hour_min'+time1:'min','hour_max'+time1:'max'})\n",
    "    # 拼接\n",
    "    selected_data = order_test.copy()\n",
    "    feature = pd.merge(selected_data,f1_tmp_0,on=['start_geo_id','end_geo_id'],how='left')\n",
    "    feature = pd.merge(feature,f1_tmp,on=['start_geo_id','end_geo_id'],how='left')\n",
    "    return feature"
   ]
  },
  {
   "cell_type": "code",
   "execution_count": 23,
   "metadata": {
    "collapsed": true
   },
   "outputs": [],
   "source": [
    "def f1_num_week(time1,time2,yongtu='xunlian'):\n",
    "    # 求25,26,27,28,29,30,31 这样的日期对应的星期，然后['start_geo_id','end_geo_id','week','create_hour'] 这样的key下的平均\n",
    "    if yongtu=='xunlian':\n",
    "        order_train = july_order_train\n",
    "        order_test = july_order_test\n",
    "    else:\n",
    "        order_train = aug_order_train\n",
    "        order_test = aug_order_test\n",
    "    order_train = order_train[(order_train['create_date']>=time1) & (order_train['create_date']<=time2)]\n",
    "    order_train_sigle = order_train[['start_geo_id','end_geo_id','create_date']].drop_duplicates()\n",
    "    order_train_sigle['week'] = pd.to_datetime(order_train_sigle['create_date']).dt.weekday\n",
    "    order_train['week'] = pd.to_datetime(order_train['create_date']).dt.weekday\n",
    "    f1_tmp_0 = order_train_sigle.groupby(['start_geo_id','end_geo_id','week'],as_index=False)['create_date'].agg({'day_week_count'+time1:'count'})\n",
    "    f1_tmp_1 = order_train.groupby(['start_geo_id','end_geo_id','week','create_date'],as_index=False)['num'].agg({'hour_week_count'+time1:'count'})\n",
    "    f1_tmp= f1_tmp_1.groupby(['start_geo_id','end_geo_id','week'],as_index=False)['hour_week_count'+time1].agg({'hour_week_median'+time1:'median','hour_week_std'+time1:'std','hour_week_min'+time1:'min','hour_week_max'+time1:'max'})\n",
    "    \n",
    "    selected_data = order_test.copy()\n",
    "    selected_data['week'] = pd.to_datetime(selected_data['create_date']).dt.weekday\n",
    "    feature = pd.merge(selected_data,f1_tmp_0,on=['start_geo_id','end_geo_id','week'],how='left')\n",
    "    feature = pd.merge(feature,f1_tmp,on=['start_geo_id','end_geo_id','week'],how='left')\n",
    "    return feature"
   ]
  },
  {
   "cell_type": "code",
   "execution_count": 25,
   "metadata": {
    "collapsed": true
   },
   "outputs": [],
   "source": [
    "def f1_num_day_half(time1,time2,yongtu='xunlian'):\n",
    "    if yongtu=='xunlian':\n",
    "        order_train = july_order_train\n",
    "        order_test = july_order_test\n",
    "    else:\n",
    "        order_train = aug_order_train\n",
    "        order_test = aug_order_test\n",
    "    # 用中位数衡量\n",
    "    order_train = order_train[(order_train['create_date']>=time1) & (order_train['create_date']<=time2)]\n",
    "    f1_tmp = order_train.groupby(['start_geo_id','end_geo_id','create_date'],as_index=False)['num'].agg({'half_count'+time1:'count'})\n",
    "    \n",
    "    selected_data = order_test.copy()\n",
    "    feature = pd.merge(selected_data,f1_tmp,on=['start_geo_id','end_geo_id','create_date'],how='left')\n",
    "    feature = pd.merge(feature,f1_tmp,on=['start_geo_id','end_geo_id','create_date'],how='left')\n",
    "    return feature"
   ]
  },
  {
   "cell_type": "code",
   "execution_count": 20,
   "metadata": {},
   "outputs": [],
   "source": [
    "# A,B 俩点在在一天内订单数每个小时的比例\n",
    "order_train = july_order_train\n",
    "order_daydayNum = pd.read_csv('data/daydayNum.csv')[['start_geo_id','end_geo_id','num_day']]\n",
    "order_train = order_train[order_train['create_date']<'2017-07-25']\n",
    "order_train_1 = order_train.groupby(['start_geo_id','end_geo_id','create_date','create_hour'],as_index=False)['num'].agg({\"count_hour\":'count'})\n",
    "order_train_2 = order_train.groupby(['start_geo_id','end_geo_id','create_date'],as_index=False)['num'].agg({\"count_day\":'count'})\n",
    "order_train_12 = pd.merge(order_train_2,order_train_1,on = ['start_geo_id','end_geo_id','create_date'],how = 'left')\n",
    "order_train_12.fillna(0)\n",
    "order_train_12['bili'] = order_train_12['count_hour']/order_train_12['count_day']\n",
    "order_train_mean = order_train_12.groupby(['start_geo_id','end_geo_id','create_hour'],as_index=False)['bili'].agg({\"mean_bili\":'mean'})\n",
    "order_day_num = pd.merge(order_daydayNum,order_train_mean,on = ['start_geo_id','end_geo_id'],how = 'left')\n",
    "order_day_num['num_hour'] = order_day_num['num_day']*order_day_num['mean_bili']\n",
    "july_label_order = pd.read_csv('data/train_July.csv')\n",
    "july_label_order['num'] = 1\n",
    "july_label_order_25_31 = july_label_order[july_label_order['create_date']>'2017-07-24'][['start_geo_id','end_geo_id','create_date','create_hour','num']]\n",
    "july_label_order_0725_d = july_label_order_25_31[(july_label_order_25_31['create_date']=='2017-07-25')&(july_label_order_25_31['create_hour']%2 !=0)].groupby(['start_geo_id','end_geo_id','create_date','create_hour'])['num'].sum()\n",
    "july_label_order_0726_s = july_label_order_25_31[(july_label_order_25_31['create_date']=='2017-07-26')&(july_label_order_25_31['create_hour']%2 ==0)].groupby(['start_geo_id','end_geo_id','create_date','create_hour'])['num'].sum()\n",
    "july_label_order_0727_d = july_label_order_25_31[(july_label_order_25_31['create_date']=='2017-07-27')&(july_label_order_25_31['create_hour']%2 !=0)].groupby(['start_geo_id','end_geo_id','create_date','create_hour'])['num'].sum()\n",
    "july_label_order_0728_s = july_label_order_25_31[(july_label_order_25_31['create_date']=='2017-07-28')&(july_label_order_25_31['create_hour']%2 ==0)].groupby(['start_geo_id','end_geo_id','create_date','create_hour'])['num'].sum()\n",
    "july_label_order_0729_d = july_label_order_25_31[(july_label_order_25_31['create_date']=='2017-07-29')&(july_label_order_25_31['create_hour']%2 !=0)].groupby(['start_geo_id','end_geo_id','create_date','create_hour'])['num'].sum()\n",
    "july_label_order_0730_s = july_label_order_25_31[(july_label_order_25_31['create_date']=='2017-07-30')&(july_label_order_25_31['create_hour']%2 ==0)].groupby(['start_geo_id','end_geo_id','create_date','create_hour'])['num'].sum()\n",
    "july_label_order_0731_d = july_label_order_25_31[(july_label_order_25_31['create_date']=='2017-07-31')&(july_label_order_25_31['create_hour']%2 !=0)].groupby(['start_geo_id','end_geo_id','create_date','create_hour'])['num'].sum()\n",
    "order_label_25_31 = pd.concat([july_label_order_0725_d,july_label_order_0726_s,july_label_order_0727_d,july_label_order_0728_s,july_label_order_0729_d,july_label_order_0730_s,july_label_order_0731_d]).reset_index()\n",
    "order_label_25_31.to_csv(\"data/label.csv\")"
   ]
  },
  {
   "cell_type": "code",
   "execution_count": 26,
   "metadata": {
    "collapsed": true
   },
   "outputs": [],
   "source": [
    "def features_num(yongtu='xunlian'):\n",
    "    if yongtu=='xunlian':\n",
    "        f1_num_24 = f1_num('2017-07-01', '2017-07-24',yongtu)\n",
    "        f1_num_7 = f1_num('2017-07-18', '2017-07-24' ,yongtu)\n",
    "        f1_num_3 = f1_num('2017-07-22', '2017-07-24' ,yongtu)\n",
    "        f1_num_1 = f1_num('2017-07-24', '2017-07-24' ,yongtu)\n",
    "        f1_num_week_24 = f1_num_week('2017-07-01', '2017-07-24' ,yongtu) \n",
    "        f1_num_week_14 = f1_num_week('2017-07-11', '2017-07-24' ,yongtu)\n",
    "        f1_num_week_7 = f1_num_week('2017-07-18', '2017-07-24',yongtu)\n",
    "        f1_num_half_day = f1_num_day_half('2017-07-25', '2017-07-31',yongtu)\n",
    "        \n",
    "#         between_day = f1_num_between_day('2017-07-24', '2017-07-31',yongtu)\n",
    "#         between_hour = f1_num_between_hour('2017-07-24', '2017-07-31',yongtu)\n",
    "    else:\n",
    "        f1_num_24 = f1_num('2017-07-08', '2017-07-31',yongtu)\n",
    "        f1_num_7 = f1_num('2017-07-25', '2017-07-31' ,yongtu)\n",
    "        f1_num_3 = f1_num('2017-07-29', '2017-07-31' ,yongtu)\n",
    "        f1_num_1 = f1_num('2017-07-31', '2017-07-31' ,yongtu)\n",
    "        f1_num_week_24 = f1_num_week('2017-07-08', '2017-07-31' ,yongtu) \n",
    "        f1_num_week_14 = f1_num_week('2017-07-18', '2017-07-31' ,yongtu)\n",
    "        f1_num_week_7 = f1_num_week('2017-07-24', '2017-07-31',yongtu)\n",
    "        f1_num_half_day = f1_num_day_half('2017-07-25', '2017-07-31',yongtu)\n",
    "#         between_day = f1_num_between_day('2017-07-31', '2017-08-07',yongtu)\n",
    "#         between_hour = f1_num_between_hour('2017-07-31', '2017-08-07',yongtu)\n",
    "\n",
    "    features = pd.merge(f1_num_24,f1_num_7,on=['start_geo_id','end_geo_id','create_date'],how='left')\n",
    "    features = pd.merge(features,f1_num_3,on=['start_geo_id','end_geo_id','create_date'],how='left')\n",
    "    features = pd.merge(features,f1_num_1,on=['start_geo_id','end_geo_id','create_date'],how='left')\n",
    "    features = pd.merge(features,f1_num_week_24,on=['start_geo_id','end_geo_id','create_date'],how='left')\n",
    "    features = pd.merge(features,f1_num_week_14,on=['start_geo_id','end_geo_id','create_date'],how='left')\n",
    "    features = pd.merge(features,f1_num_week_7,on=['start_geo_id','end_geo_id','create_date'],how='left')\n",
    "    features = pd.merge(features,order_25_31,on=['start_geo_id','end_geo_id','create_date'],how='left')\n",
    "    features = pd.merge(features,f1_num_half_day,on=['start_geo_id','end_geo_id','create_date'],how='left')\n",
    "#     features = pd.merge(features,between_day,on=['start_geo_id','end_geo_id','create_date','create_hour'],how='left')\n",
    "#     features = pd.merge(features,between_hour,on=['start_geo_id','end_geo_id','create_date','create_hour'],how='left')\n",
    "    return features"
   ]
  },
  {
   "cell_type": "code",
   "execution_count": 27,
   "metadata": {
    "collapsed": true
   },
   "outputs": [],
   "source": [
    "def trainning_test():\n",
    "    features_train = features_num()\n",
    "    print features_train.count()\n",
    "#     print features_train\n",
    "\n",
    "    del features_train['start_geo_id']\n",
    "    del features_train['end_geo_id']\n",
    "    del features_train['create_date']\n",
    "#   del features_train['create_hour']\n",
    "    label = july_order_test_with_label['num']\n",
    "\n",
    "    dtrain, dtest, dtrain_y, dtest_y = train_test_split(features_train, label, test_size=0.2, random_state=42)\n",
    "\n",
    "    xgb_model = xgb.XGBRegressor(max_depth=5, learning_rate=0.05, n_estimators=500).fit(dtrain, dtrain_y)\n",
    "    predictions = xgb_model.predict(dtest)\n",
    "    actuals = dtest_y\n",
    "    s_prediciotn = pd.Series(predictions)\n",
    "    s_label = pd.Series(actuals).reset_index()\n",
    "    del s_label['index']\n",
    "    result = s_prediciotn.to_frame()\n",
    "    result['label'] = s_label\n",
    "    result.to_csv(\"result.csv\")\n",
    "    print(mean_absolute_error(actuals, predictions))\n",
    "    return xgb_model"
   ]
  },
  {
   "cell_type": "code",
   "execution_count": 9,
   "metadata": {
    "collapsed": true
   },
   "outputs": [],
   "source": [
    "# 训练节测试集构造\n",
    "def trainning():\n",
    "    features_train = features_num()\n",
    "\n",
    "    del features_train['start_geo_id']\n",
    "    del features_train['end_geo_id']\n",
    "    del features_train['create_date']\n",
    "\n",
    "    label = july_order_test_with_label['num']\n",
    "\n",
    "    features_train = features_train.values\n",
    "\n",
    "    dtrain, dtest, dtrain_y, dtest_y = train_test_split(features_train, label, test_size=0.0, random_state=42)\n",
    "\n",
    "    xgb_model = xgb.XGBRegressor(max_depth=5, learning_rate=0.05, n_estimators=200).fit(dtrain, dtrain_y)\n",
    "    return xgb_model\n",
    "\n",
    "\n",
    "def testing():\n",
    "    features_test = features_num('ceshi')\n",
    "    rows, columns = features_test.shape\n",
    "    del features_test['start_geo_id']\n",
    "    del features_test['end_geo_id']\n",
    "    del features_test['create_date']\n",
    "    return features_test.values"
   ]
  },
  {
   "cell_type": "code",
   "execution_count": 28,
   "metadata": {},
   "outputs": [
    {
     "name": "stderr",
     "output_type": "stream",
     "text": [
      "/home/kun/outil/anaconda2/lib/python2.7/site-packages/ipykernel_launcher.py:12: SettingWithCopyWarning: \n",
      "A value is trying to be set on a copy of a slice from a DataFrame.\n",
      "Try using .loc[row_indexer,col_indexer] = value instead\n",
      "\n",
      "See the caveats in the documentation: http://pandas.pydata.org/pandas-docs/stable/indexing.html#indexing-view-versus-copy\n",
      "  if sys.path[0] == '':\n"
     ]
    },
    {
     "name": "stdout",
     "output_type": "stream",
     "text": [
      "start_geo_id                  29057\n",
      "end_geo_id                    29057\n",
      "create_date                   29057\n",
      "day_count2017-07-01           27311\n",
      "hour_min2017-07-01            27311\n",
      "hour_median2017-07-01         27311\n",
      "hour_max2017-07-01            27311\n",
      "hour_std2017-07-01            26272\n",
      "day_count2017-07-18           25403\n",
      "hour_std2017-07-18            22891\n",
      "hour_max2017-07-18            25403\n",
      "hour_median2017-07-18         25403\n",
      "hour_min2017-07-18            25403\n",
      "day_count2017-07-22           22617\n",
      "hour_std2017-07-22            17403\n",
      "hour_min2017-07-22            22617\n",
      "hour_max2017-07-22            22617\n",
      "hour_median2017-07-22         22617\n",
      "day_count2017-07-24           18280\n",
      "hour_max2017-07-24            18280\n",
      "hour_median2017-07-24         18280\n",
      "hour_min2017-07-24            18280\n",
      "hour_std2017-07-24                0\n",
      "week_x                        29057\n",
      "day_week_count2017-07-01      23814\n",
      "hour_week_std2017-07-01       19966\n",
      "hour_week_min2017-07-01       23814\n",
      "hour_week_median2017-07-01    23814\n",
      "hour_week_max2017-07-01       23814\n",
      "week_y                        29057\n",
      "day_week_count2017-07-11      21927\n",
      "hour_week_max2017-07-11       21927\n",
      "hour_week_std2017-07-11       15953\n",
      "hour_week_min2017-07-11       21927\n",
      "hour_week_median2017-07-11    21927\n",
      "week                          29057\n",
      "day_week_count2017-07-18      18681\n",
      "hour_week_std2017-07-18           0\n",
      "hour_week_max2017-07-18       18681\n",
      "hour_week_min2017-07-18       18681\n",
      "hour_week_median2017-07-18    18681\n",
      "num                           15075\n",
      "half_count2017-07-25_x        15075\n",
      "half_count2017-07-25_y        15075\n",
      "dtype: int64\n",
      "1.31555439196\n",
      "[ 0.01379515  0.05451309  0.04368464  0.03982793  0.05139806  0.00229919\n",
      "  0.06341319  0.02195357  0.02180524  0.01609434  0.00126085  0.04568716\n",
      "  0.00979011  0.02039605  0.02499444  0.0002225   0.02618112  0.          0.\n",
      "  0.          0.05503226  0.00430171  0.08536676  0.04672551  0.05325224\n",
      "  0.03426537  0.          0.000445    0.0337462   0.046503    0.03129867\n",
      "  0.03522955  0.          0.00029667  0.          0.03567455  0.          0.\n",
      "  0.08054587  0.          0.        ]\n"
     ]
    }
   ],
   "source": [
    "model = trainning_test()\n",
    "print model.feature_importances_\n",
    "\n",
    "# order_25_31 = pd.concat([july_order_0725_d,july_order_0726_s,july_order_0727_d,july_order_0728_s,july_order_0729_d,july_order_0730_s,july_order_0731_d]).reset_index()\n",
    "\n",
    "# aug_order_test.sort_values(['start_geo_id','end_geo_id','create_date','create_hour']).to_csv(\"ceshiji.csv\")\n",
    "# model = trainning()\n",
    "# pyplot.bar(range(len(model.feature_importances_)), model.feature_importances_)\n",
    "# test = testing()\n",
    "# result = model.predict(test)\n",
    "# pd.DataFrame(result).to_csv(\"result_ture2.csv\")"
   ]
  },
  {
   "cell_type": "code",
   "execution_count": null,
   "metadata": {
    "collapsed": true
   },
   "outputs": [],
   "source": []
  }
 ],
 "metadata": {
  "kernelspec": {
   "display_name": "Python 2",
   "language": "python",
   "name": "python2"
  },
  "language_info": {
   "codemirror_mode": {
    "name": "ipython",
    "version": 2
   },
   "file_extension": ".py",
   "mimetype": "text/x-python",
   "name": "python",
   "nbconvert_exporter": "python",
   "pygments_lexer": "ipython2",
   "version": "2.7.14"
  }
 },
 "nbformat": 4,
 "nbformat_minor": 2
}

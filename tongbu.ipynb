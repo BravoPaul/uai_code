{
 "cells": [
  {
   "cell_type": "code",
   "execution_count": 1,
   "metadata": {
    "collapsed": true
   },
   "outputs": [],
   "source": [
    " # -*- coding: utf-8 -*\n",
    "import datetime\n",
    "import time\n",
    "from datetime import datetime, timedelta\n",
    "import datetime\n",
    "import time\n",
    "from datetime import datetime, timedelta\n",
    "import numpy as np\n",
    "import pandas as pd\n",
    "from pandas import DataFrame\n",
    "from pandas import Series\n",
    "import xgboost as xgb\n",
    "from sklearn.model_selection import train_test_split\n",
    "from sklearn.metrics import mean_absolute_error\n",
    "from matplotlib import pyplot\n"
   ]
  },
  {
   "cell_type": "code",
   "execution_count": 2,
   "metadata": {},
   "outputs": [
    {
     "name": "stdout",
     "output_type": "stream",
     "text": [
      "train_pre_traitor done\n",
      "test_pre_traitor done\n"
     ]
    }
   ],
   "source": [
    "# 此模块用于最基本的数据梳理\n",
    "july_order = pd.read_csv('data/train_July.csv')\n",
    "july_order['num'] = 1\n",
    "july_order_25_31 = july_order[july_order['create_date']>'2017-07-24'][['start_geo_id','end_geo_id','create_date','create_hour','num']]\n",
    "july_order_0725_d = july_order_25_31[(july_order_25_31['create_date']=='2017-07-25')&(july_order_25_31['create_hour']%2 !=0)].groupby(['start_geo_id','end_geo_id','create_date','create_hour'])['num'].sum()\n",
    "july_order_0726_s = july_order_25_31[(july_order_25_31['create_date']=='2017-07-26')&(july_order_25_31['create_hour']%2 ==0)].groupby(['start_geo_id','end_geo_id','create_date','create_hour'])['num'].sum()\n",
    "july_order_0727_d = july_order_25_31[(july_order_25_31['create_date']=='2017-07-27')&(july_order_25_31['create_hour']%2 !=0)].groupby(['start_geo_id','end_geo_id','create_date','create_hour'])['num'].sum()\n",
    "july_order_0728_s = july_order_25_31[(july_order_25_31['create_date']=='2017-07-28')&(july_order_25_31['create_hour']%2 ==0)].groupby(['start_geo_id','end_geo_id','create_date','create_hour'])['num'].sum()\n",
    "july_order_0729_d = july_order_25_31[(july_order_25_31['create_date']=='2017-07-29')&(july_order_25_31['create_hour']%2 !=0)].groupby(['start_geo_id','end_geo_id','create_date','create_hour'])['num'].sum()\n",
    "july_order_0730_s = july_order_25_31[(july_order_25_31['create_date']=='2017-07-30')&(july_order_25_31['create_hour']%2 ==0)].groupby(['start_geo_id','end_geo_id','create_date','create_hour'])['num'].sum()\n",
    "july_order_0731_d = july_order_25_31[(july_order_25_31['create_date']=='2017-07-31')&(july_order_25_31['create_hour']%2 !=0)].groupby(['start_geo_id','end_geo_id','create_date','create_hour'])['num'].sum()\n",
    "july_order_1 = july_order.drop(july_order[(july_order['create_date']=='2017-07-25')&(july_order['create_hour']%2 !=0)].index)\n",
    "july_order_2 = july_order_1.drop(july_order_1[(july_order_1['create_date']=='2017-07-26')&(july_order_1['create_hour']%2 ==0)].index)\n",
    "july_order_3 = july_order_2.drop(july_order_2[(july_order_2['create_date']=='2017-07-27')&(july_order_2['create_hour']%2 !=0)].index)\n",
    "july_order_4 = july_order_3.drop(july_order_3[(july_order_3['create_date']=='2017-07-28')&(july_order_3['create_hour']%2 ==0)].index)\n",
    "july_order_5 = july_order_4.drop(july_order_4[(july_order_4['create_date']=='2017-07-29')&(july_order_4['create_hour']%2 !=0)].index)\n",
    "july_order_6 = july_order_5.drop(july_order_5[(july_order_5['create_date']=='2017-07-30')&(july_order_5['create_hour']%2 ==0)].index)\n",
    "july_order_train = july_order_6.drop(july_order_6[(july_order_6['create_date']=='2017-07-31')&(july_order_6['create_hour']%2 !=0)].index)\n",
    "july_order_test = pd.concat([july_order_0725_d,july_order_0726_s,july_order_0727_d,july_order_0728_s,july_order_0729_d,july_order_0730_s,july_order_0731_d]).reset_index()\n",
    "july_order_test_with_label = july_order_test.copy()\n",
    "del july_order_test['num']\n",
    "print 'train_pre_traitor done'\n",
    "\n",
    "# 此模块用于最基本的数据梳理\n",
    "july_order = pd.read_csv('data/train_July.csv')\n",
    "aug_order = pd.read_csv('data/train_Aug.csv')\n",
    "july_order = july_order[july_order['create_date']>'2017-07-07']\n",
    "aug_order_train = pd.concat([july_order,aug_order]).reset_index()\n",
    "aug_order_train['num'] = 1\n",
    "aug_order_test = pd.read_csv('data/test_id_Aug_agg_public5k.csv')\n",
    "del aug_order_test['test_id']\n",
    "print 'test_pre_traitor done'"
   ]
  },
  {
   "cell_type": "code",
   "execution_count": 3,
   "metadata": {
    "collapsed": true
   },
   "outputs": [],
   "source": [
    "def f1_num(time1,time2,yongtu='xunlian'):\n",
    "    if yongtu=='xunlian':\n",
    "        order_train = july_order_train\n",
    "        order_test = july_order_test\n",
    "    else:\n",
    "        order_train = aug_order_train\n",
    "        order_test = aug_order_test\n",
    "    # 用中位数衡量\n",
    "    order_train = order_train[(order_train['create_date']>=time1) & (order_train['create_date']<=time2)]\n",
    "    order_train_sigle = order_train[['start_geo_id','end_geo_id','create_date','create_hour']].drop_duplicates()\n",
    "    f1_tmp_0 = order_train_sigle.groupby(['start_geo_id','end_geo_id','create_hour'],as_index=False)['create_date'].agg({'day_count'+time1:'count'})\n",
    "    f1_tmp_1 = order_train.groupby(['start_geo_id','end_geo_id','create_date','create_hour'],as_index=False)['num'].agg({'hour_count'+time1:'sum'})\n",
    "    # 这里有个非常牛逼的东西，就是改变mean，median，std ，min，max，分别计算对应的值\n",
    "    f1_tmp= f1_tmp_1.groupby(['start_geo_id','end_geo_id','create_hour'],as_index=False)['hour_count'+time1].agg({'hour_median'+time1:'median','hour_std'+time1:'std','hour_min'+time1:'min','hour_max'+time1:'max'})\n",
    "    # 拼接\n",
    "    selected_data = order_test.copy()\n",
    "    feature = pd.merge(selected_data,f1_tmp_0,on=['start_geo_id','end_geo_id','create_hour'],how='left')\n",
    "    feature = pd.merge(feature,f1_tmp,on=['start_geo_id','end_geo_id','create_hour'],how='left')\n",
    "    return feature"
   ]
  },
  {
   "cell_type": "code",
   "execution_count": 4,
   "metadata": {
    "collapsed": true
   },
   "outputs": [],
   "source": [
    "def f1_num_week(time1,time2,yongtu='xunlian'):\n",
    "    # 求25,26,27,28,29,30,31 这样的日期对应的星期，然后['start_geo_id','end_geo_id','week','create_hour'] 这样的key下的平均\n",
    "    if yongtu=='xunlian':\n",
    "        order_train = july_order_train\n",
    "        order_test = july_order_test\n",
    "    else:\n",
    "        order_train = aug_order_train\n",
    "        order_test = aug_order_test\n",
    "    order_train = order_train[(order_train['create_date']>=time1) & (order_train['create_date']<=time2)]\n",
    "    order_train_sigle = order_train[['start_geo_id','end_geo_id','create_date','create_hour']].drop_duplicates()\n",
    "    order_train_sigle['week'] = pd.to_datetime(order_train_sigle['create_date']).dt.weekday\n",
    "    order_train['week'] = pd.to_datetime(order_train['create_date']).dt.weekday\n",
    "    f1_tmp_0 = order_train_sigle.groupby(['start_geo_id','end_geo_id','week','create_hour'],as_index=False)['create_date'].agg({'day_week_count'+time1:'count'})\n",
    "    f1_tmp_1 = order_train.groupby(['start_geo_id','end_geo_id','week','create_hour','create_date'],as_index=False)['num'].agg({'hour_week_count'+time1:'count'})\n",
    "    f1_tmp= f1_tmp_1.groupby(['start_geo_id','end_geo_id','create_hour','week'],as_index=False)['hour_week_count'+time1].agg({'hour_week_median'+time1:'median','hour_week_std'+time1:'std','hour_week_min'+time1:'min','hour_week_max'+time1:'max'})\n",
    "    \n",
    "    selected_data = order_test.copy()\n",
    "    selected_data['week'] = pd.to_datetime(selected_data['create_date']).dt.weekday\n",
    "    feature = pd.merge(selected_data,f1_tmp_0,on=['start_geo_id','end_geo_id','week','create_hour'],how='left')\n",
    "    feature = pd.merge(feature,f1_tmp,on=['start_geo_id','end_geo_id','week','create_hour'],how='left')\n",
    "    return feature"
   ]
  },
  {
   "cell_type": "code",
   "execution_count": 5,
   "metadata": {
    "collapsed": true
   },
   "outputs": [],
   "source": [
    "def f1_num_between_hour(time1,time2,yongtu='xunlian'):\n",
    "    if yongtu=='xunlian':\n",
    "        order_train = july_order_train\n",
    "        order_test = july_order_test\n",
    "    else:\n",
    "        order_train = aug_order_train\n",
    "        order_test = aug_order_test\n",
    "    order_train_num_25_31 = order_train[(order_train['create_date']>=time1) & (order_train['create_date']<=time2)]\n",
    "    f2_tem_6 = order_train_num_25_31.copy()\n",
    "    f2_tem_6['create_hour'] = f2_tem_6['create_hour'].map(lambda x: 23 if x-1<0 else x-1)\n",
    "    f2_tem_6.loc[f2_tem_6['create_hour'] == 23, 'create_date'] = f2_tem_6['create_date'].map(lambda x: (datetime.strptime(x,'%Y-%m-%d') - timedelta(days=1)).strftime('%Y-%m-%d'))\n",
    "    f2_6 = f2_tem_6.groupby(['start_geo_id','end_geo_id','create_date','create_hour'],as_index = False)['num'].agg({\"hou_hour\": \"count\"})\n",
    "    f2_tem_7 = order_train_num_25_31.copy()\n",
    "    f2_tem_7['create_hour'] = f2_tem_7['create_hour'].map(lambda x: 0 if x+1>23 else x+1)\n",
    "    f2_tem_7.loc[f2_tem_7['create_hour'] == 0, 'create_date'] = f2_tem_7['create_date'].map(lambda x: (datetime.strptime(x,'%Y-%m-%d') + timedelta(days=1)).strftime('%Y-%m-%d'))\n",
    "    f2_7 = f2_tem_7.groupby(['start_geo_id','end_geo_id','create_date','create_hour'],as_index = False)['num'].agg({\"qian_hour\": \"count\"})\n",
    "\n",
    "    feature = order_test.copy()\n",
    "    feature = pd.merge(feature,f2_6,on=['start_geo_id','end_geo_id','create_date','create_hour'],how='left')\n",
    "    feature = pd.merge(feature,f2_7,on=['start_geo_id','end_geo_id','create_date','create_hour'],how='left')\n",
    "    features = feature.fillna(0)\n",
    "    features['between_hour'] = (features['hou_hour']+features['qian_hour'])/2\n",
    "    return features"
   ]
  },
  {
   "cell_type": "code",
   "execution_count": 6,
   "metadata": {
    "collapsed": true
   },
   "outputs": [],
   "source": [
    "def f1_num_between_day(time1,time2,yongtu='xunlian'):\n",
    "    if yongtu=='xunlian':\n",
    "        order_train = july_order_train\n",
    "        order_train_30 = order_train[order_train['create_date']=='2017-07-30']\n",
    "        order_train_30['create_date'] = '2017-08-01'\n",
    "        order_train = order_train.append(order_train_30)\n",
    "        order_test = july_order_test\n",
    "    else:\n",
    "        order_train = aug_order_train\n",
    "        order_train_30 = order_train[order_train['create_date']=='2017-08-06']\n",
    "        order_train_30['create_date'] = '2017-08-08'\n",
    "        order_train = order_train.append(order_train_30)\n",
    "        order_test = aug_order_test\n",
    "    order_train_num_25_31 = order_train[(order_train['create_date']>=time1) & (order_train['create_date']<=time2)]\n",
    "    f2_tem_5 = order_train_num_25_31.copy()\n",
    "    f2_tem_5\n",
    "    f2_tem_5['create_date'] = pd.to_datetime(pd.DatetimeIndex(pd.to_datetime(f2_tem_5['create_date']))- pd.DateOffset(1))\n",
    "    f2_tem_5['create_date'] = f2_tem_5['create_date'].map(lambda x: x.strftime('%Y-%m-%d'))\n",
    "    f2_5_1 = f2_tem_5.groupby(['start_geo_id','end_geo_id','create_date','create_hour'],as_index = False)['num'].agg({'hou_tian':'count'})\n",
    "    f2_tem_5 = order_train_num_25_31.copy()\n",
    "    f2_tem_5['create_date'] = pd.to_datetime(pd.DatetimeIndex(pd.to_datetime(f2_tem_5['create_date']))+ pd.DateOffset(1))\n",
    "    f2_tem_5['create_date'] = f2_tem_5['create_date'].map(lambda x: x.strftime('%Y-%m-%d'))\n",
    "    f2_5_2 = f2_tem_5.groupby(['start_geo_id','end_geo_id','create_date','create_hour'],as_index = False)['num'].agg({'qian_tian':'count'})\n",
    "    feature = july_order_test.copy()\n",
    "    feature = pd.merge(feature,f2_5_1,on=['start_geo_id','end_geo_id','create_date','create_hour'],how='left')\n",
    "    feature = pd.merge(feature,f2_5_2,on=['start_geo_id','end_geo_id','create_date','create_hour'],how='left')\n",
    "    features = feature.fillna(0)\n",
    "    features['between_tian'] = (features['qian_tian']+features['hou_tian'])/2\n",
    "    return features"
   ]
  },
  {
   "cell_type": "code",
   "execution_count": 7,
   "metadata": {
    "collapsed": true
   },
   "outputs": [],
   "source": [
    "def features_num(yongtu='xunlian'):\n",
    "    if yongtu=='xunlian':\n",
    "        f1_num_24 = f1_num('2017-07-01', '2017-07-24',yongtu)\n",
    "        f1_num_7 = f1_num('2017-07-18', '2017-07-24' ,yongtu)\n",
    "        f1_num_3 = f1_num('2017-07-22', '2017-07-24' ,yongtu)\n",
    "        f1_num_1 = f1_num('2017-07-24', '2017-07-24' ,yongtu)\n",
    "        f1_num_week_24 = f1_num_week('2017-07-01', '2017-07-24' ,yongtu) \n",
    "        f1_num_week_14 = f1_num_week('2017-07-11', '2017-07-17' ,yongtu)\n",
    "        f1_num_week_7 = f1_num_week('2017-07-18', '2017-07-24',yongtu)\n",
    "        between_day = f1_num_between_day('2017-07-24', '2017-07-31',yongtu)\n",
    "        between_hour = f1_num_between_hour('2017-07-24', '2017-07-31',yongtu)\n",
    "    else:\n",
    "        f1_num_24 = f1_num('2017-07-08', '2017-07-31',yongtu)\n",
    "        f1_num_7 = f1_num('2017-07-25', '2017-07-31' ,yongtu)\n",
    "        f1_num_3 = f1_num('2017-07-29', '2017-07-31' ,yongtu)\n",
    "        f1_num_1 = f1_num('2017-07-31', '2017-07-31' ,yongtu)\n",
    "        f1_num_week_24 = f1_num_week('2017-07-08', '2017-07-31' ,yongtu) \n",
    "        f1_num_week_14 = f1_num_week('2017-07-18', '2017-07-24' ,yongtu)\n",
    "        f1_num_week_7 = f1_num_week('2017-07-24', '2017-07-31',yongtu)\n",
    "        between_day = f1_num_between_day('2017-07-31', '2017-08-07',yongtu)\n",
    "        between_hour = f1_num_between_hour('2017-07-31', '2017-08-07',yongtu)\n",
    "\n",
    "    features = pd.merge(f1_num_24,f1_num_7,on=['start_geo_id','end_geo_id','create_date','create_hour'],how='left')\n",
    "    features = pd.merge(features,f1_num_3,on=['start_geo_id','end_geo_id','create_date','create_hour'],how='left')\n",
    "    features = pd.merge(features,f1_num_1,on=['start_geo_id','end_geo_id','create_date','create_hour'],how='left')\n",
    "    features = pd.merge(features,f1_num_week_24,on=['start_geo_id','end_geo_id','create_date','create_hour'],how='left')\n",
    "    features = pd.merge(features,f1_num_week_14,on=['start_geo_id','end_geo_id','create_date','create_hour'],how='left')\n",
    "    features = pd.merge(features,f1_num_week_7,on=['start_geo_id','end_geo_id','create_date','create_hour'],how='left')\n",
    "    features = pd.merge(features,between_day,on=['start_geo_id','end_geo_id','create_date','create_hour'],how='left')\n",
    "    features = pd.merge(features,between_hour,on=['start_geo_id','end_geo_id','create_date','create_hour'],how='left')\n",
    "    return features"
   ]
  },
  {
   "cell_type": "code",
   "execution_count": 24,
   "metadata": {
    "collapsed": true
   },
   "outputs": [],
   "source": [
    "def trainning_test():\n",
    "    features_train = features_num()\n",
    "    index_get = features_train['day_count'+'2017-07-24']>0\n",
    "    features_train = features_train[index_get] \n",
    "    print features_train.count()\n",
    "\n",
    "    del features_train['start_geo_id']\n",
    "    del features_train['end_geo_id']\n",
    "    del features_train['create_date']\n",
    "    del features_train['create_hour']\n",
    "    label = july_order_test_with_label['num']\n",
    "    label = label[index_get]\n",
    "\n",
    "    dtrain, dtest, dtrain_y, dtest_y = train_test_split(features_train, label, test_size=0.2, random_state=42)\n",
    "\n",
    "    xgb_model = xgb.XGBRegressor(max_depth=10, learning_rate=0.05, n_estimators=500).fit(dtrain, dtrain_y)\n",
    "    predictions = xgb_model.predict(dtest)\n",
    "    actuals = dtest_y\n",
    "    s_prediciotn = pd.Series(predictions)\n",
    "    s_label = pd.Series(actuals).reset_index()\n",
    "    del s_label['index']\n",
    "    result = s_prediciotn.to_frame()\n",
    "    result['label'] = s_label\n",
    "    result.to_csv(\"result.csv\")\n",
    "    print(mean_absolute_error(actuals, predictions))\n",
    "    return xgb_model"
   ]
  },
  {
   "cell_type": "code",
   "execution_count": 19,
   "metadata": {
    "collapsed": true
   },
   "outputs": [],
   "source": [
    "def trainning():\n",
    "    features_train = features_num()\n",
    "#     index_get = features_train['day_count'+'2017-07-24']>0\n",
    "#     features_train = features_train[index_get] \n",
    "\n",
    "    del features_train['start_geo_id']\n",
    "    del features_train['end_geo_id']\n",
    "    del features_train['create_date']\n",
    "    del features_train['create_hour']\n",
    "    label = july_order_test_with_label['num']\n",
    "#     label = label[index_get]\n",
    "\n",
    "    features_train = features_train.values\n",
    "\n",
    "    dtrain, dtest, dtrain_y, dtest_y = train_test_split(features_train, label, test_size=0.0, random_state=42)\n",
    "\n",
    "    xgb_model = xgb.XGBRegressor(max_depth=10, learning_rate=0.05, n_estimators=500).fit(dtrain, dtrain_y)\n",
    "    return xgb_model"
   ]
  },
  {
   "cell_type": "code",
   "execution_count": 10,
   "metadata": {
    "collapsed": true
   },
   "outputs": [],
   "source": [
    "def testing():\n",
    "    features_test = features_num('ceshi')\n",
    "    rows, columns = features_test.shape\n",
    "    print columns\n",
    "    del features_test['start_geo_id']\n",
    "    del features_test['end_geo_id']\n",
    "    del features_test['create_date']\n",
    "    del features_test['create_hour']\n",
    "    return features_test.values"
   ]
  },
  {
   "cell_type": "code",
   "execution_count": 25,
   "metadata": {},
   "outputs": [
    {
     "name": "stderr",
     "output_type": "stream",
     "text": [
      "D:\\software\\anaconda\\lib\\site-packages\\ipykernel_launcher.py:12: SettingWithCopyWarning: \n",
      "A value is trying to be set on a copy of a slice from a DataFrame.\n",
      "Try using .loc[row_indexer,col_indexer] = value instead\n",
      "\n",
      "See the caveats in the documentation: http://pandas.pydata.org/pandas-docs/stable/indexing.html#indexing-view-versus-copy\n",
      "  if sys.path[0] == '':\n",
      "D:\\software\\anaconda\\lib\\site-packages\\ipykernel_launcher.py:5: SettingWithCopyWarning: \n",
      "A value is trying to be set on a copy of a slice from a DataFrame.\n",
      "Try using .loc[row_indexer,col_indexer] = value instead\n",
      "\n",
      "See the caveats in the documentation: http://pandas.pydata.org/pandas-docs/stable/indexing.html#indexing-view-versus-copy\n",
      "  \"\"\"\n"
     ]
    },
    {
     "name": "stdout",
     "output_type": "stream",
     "text": [
      "start_geo_id                  12951\n",
      "end_geo_id                    12951\n",
      "create_date                   12951\n",
      "create_hour                   12951\n",
      "day_count2017-07-01           12951\n",
      "hour_min2017-07-01            12951\n",
      "hour_median2017-07-01         12951\n",
      "hour_max2017-07-01            12951\n",
      "hour_std2017-07-01            12735\n",
      "day_count2017-07-18           12951\n",
      "hour_std2017-07-18            11618\n",
      "hour_max2017-07-18            12951\n",
      "hour_median2017-07-18         12951\n",
      "hour_min2017-07-18            12951\n",
      "day_count2017-07-22           12951\n",
      "hour_std2017-07-22             7241\n",
      "hour_min2017-07-22            12951\n",
      "hour_max2017-07-22            12951\n",
      "hour_median2017-07-22         12951\n",
      "day_count2017-07-24           12951\n",
      "hour_max2017-07-24            12951\n",
      "hour_median2017-07-24         12951\n",
      "hour_min2017-07-24            12951\n",
      "hour_std2017-07-24                0\n",
      "week_x                        12951\n",
      "day_week_count2017-07-01      11078\n",
      "hour_week_std2017-07-01        8107\n",
      "hour_week_min2017-07-01       11078\n",
      "hour_week_median2017-07-01    11078\n",
      "hour_week_max2017-07-01       11078\n",
      "week_y                        12951\n",
      "day_week_count2017-07-11       7404\n",
      "hour_week_max2017-07-11        7404\n",
      "hour_week_std2017-07-11           0\n",
      "hour_week_min2017-07-11        7404\n",
      "hour_week_median2017-07-11     7404\n",
      "week                          12951\n",
      "day_week_count2017-07-18       7951\n",
      "hour_week_std2017-07-18           0\n",
      "hour_week_max2017-07-18        7951\n",
      "hour_week_min2017-07-18        7951\n",
      "hour_week_median2017-07-18     7951\n",
      "hou_tian                      12951\n",
      "qian_tian                     12951\n",
      "between_tian                  12951\n",
      "hou_hour                      12951\n",
      "qian_hour                     12951\n",
      "between_hour                  12951\n",
      "dtype: int64\n",
      "1.2373416467\n",
      "[ 0.1395478   0.00772859  0.04643923  0.0469062   0.1041262   0.0311377\n",
      "  0.07212902  0.01159289  0.0213856   0.00531933  0.01084169  0.03324919\n",
      "  0.00915655  0.00937312  0.012405    0.          0.00887908  0.          0.\n",
      "  0.          0.06237015  0.02204205  0.05576497  0.0170002   0.02595372\n",
      "  0.01485487  0.          0.00541408  0.03192274  0.          0.          0.\n",
      "  0.          0.00351238  0.          0.02810582  0.          0.\n",
      "  0.02531757  0.02741552  0.02503333  0.02929015  0.02716512  0.02862016]\n"
     ]
    }
   ],
   "source": [
    "model = trainning_test()\n",
    "print model.feature_importances_\n"
   ]
  }
 ],
 "metadata": {
  "kernelspec": {
   "display_name": "Python 2",
   "language": "python",
   "name": "python2"
  },
  "language_info": {
   "codemirror_mode": {
    "name": "ipython",
    "version": 2
   },
   "file_extension": ".py",
   "mimetype": "text/x-python",
   "name": "python",
   "nbconvert_exporter": "python",
   "pygments_lexer": "ipython2",
   "version": "2.7.14"
  }
 },
 "nbformat": 4,
 "nbformat_minor": 2
}
